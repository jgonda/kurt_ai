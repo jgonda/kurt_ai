{
 "cells": [
  {
   "cell_type": "code",
   "execution_count": 1,
   "metadata": {},
   "outputs": [
    {
     "name": "stderr",
     "output_type": "stream",
     "text": [
      "/Users/jgonda/.pyenv/versions/3.7.0/envs/tf-3.7.0/lib/python3.7/site-packages/pandas/compat/__init__.py:117: UserWarning: Could not import the lzma module. Your installed Python is incomplete. Attempting to use lzma compression will result in a RuntimeError.\n",
      "  warnings.warn(msg)\n",
      "Using TensorFlow backend.\n"
     ]
    }
   ],
   "source": [
    "import os\n",
    "import tensorflow as tf\n",
    "from tensorflow import keras\n",
    "import keras.backend as K\n",
    "\n",
    "import matplotlib as mpl\n",
    "import matplotlib.pyplot as plt\n",
    "import numpy as np\n",
    "import pandas as pd\n",
    "import seaborn as sns\n",
    "\n",
    "from sklearn.metrics import confusion_matrix\n",
    "from sklearn.model_selection import train_test_split\n",
    "from sklearn.preprocessing import StandardScaler"
   ]
  },
  {
   "cell_type": "code",
   "execution_count": 2,
   "metadata": {},
   "outputs": [],
   "source": [
    "mpl.rcParams['figure.figsize'] = (12, 10)\n",
    "colors = plt.rcParams['axes.prop_cycle'].by_key()['color']"
   ]
  },
  {
   "cell_type": "code",
   "execution_count": 3,
   "metadata": {},
   "outputs": [],
   "source": [
    "def multivariate_data(dataset, target, start_index, end_index, history_size):\n",
    "  data = []\n",
    "  labels = []\n",
    "\n",
    "  start_index = start_index + history_size\n",
    "  if end_index is None:\n",
    "    end_index = len(dataset)\n",
    "\n",
    "  for i in range(start_index, end_index):\n",
    "    indices = range(i - history_size, i)\n",
    "    data.append(dataset[indices])\n",
    "    labels.append(target[i])\n",
    "\n",
    "  return np.array(data), np.array(labels)"
   ]
  },
  {
   "cell_type": "code",
   "execution_count": 4,
   "metadata": {},
   "outputs": [],
   "source": [
    "def f1_score(y_true, y_pred): #taken from old keras source code\n",
    "    true_positives = K.sum(K.round(K.clip(y_true * y_pred, 0, 1)))\n",
    "    possible_positives = K.sum(K.round(K.clip(y_true, 0, 1)))\n",
    "    predicted_positives = K.sum(K.round(K.clip(y_pred, 0, 1)))\n",
    "    precision = true_positives / (predicted_positives + K.epsilon())\n",
    "    recall = true_positives / (possible_positives + K.epsilon())\n",
    "    f1_val = 2*(precision*recall)/(precision + recall + K.epsilon())\n",
    "    return f1_val"
   ]
  },
  {
   "cell_type": "code",
   "execution_count": 5,
   "metadata": {},
   "outputs": [],
   "source": [
    "def plot_loss(history, label, n):\n",
    "  # Use a log scale to show the wide range of values.\n",
    "  plt.semilogy(history.epoch,  history.history['loss'], color=colors[n], label='Train '+label)\n",
    "  plt.semilogy(history.epoch,  history.history['val_loss'], color=colors[n], label='Val '+label, linestyle=\"--\")\n",
    "  plt.xlabel('Epoch')\n",
    "  plt.ylabel('Loss')\n",
    "  plt.legend()"
   ]
  },
  {
   "cell_type": "code",
   "execution_count": 6,
   "metadata": {},
   "outputs": [],
   "source": [
    "def plot_metrics(history):\n",
    "  metrics =  ['loss', 'auc', 'precision', 'recall']\n",
    "  for n, metric in enumerate(metrics):\n",
    "    name = metric.replace(\"_\",\" \").capitalize()\n",
    "    plt.subplot(2,2,n+1)\n",
    "    plt.plot(history.epoch,  history.history[metric], color=colors[0], label='Train')\n",
    "    plt.plot(history.epoch, history.history['val_'+metric],\n",
    "             color=colors[0], linestyle=\"--\", label='Val')\n",
    "    plt.xlabel('Epoch')\n",
    "    plt.ylabel(name)\n",
    "    if metric == 'loss':\n",
    "      plt.ylim([0, plt.ylim()[1]])\n",
    "    elif metric == 'auc':\n",
    "      plt.ylim([0.8,1])\n",
    "    else:\n",
    "      plt.ylim([0,1])\n",
    "\n",
    "    plt.legend()"
   ]
  },
  {
   "cell_type": "code",
   "execution_count": 7,
   "metadata": {},
   "outputs": [],
   "source": [
    "def plot_cm(labels, predictions, p=0.5):\n",
    "  cm = confusion_matrix(labels, predictions > p)\n",
    "  plt.figure(figsize=(5,5))\n",
    "  sns.heatmap(cm, annot=True, fmt=\"d\")\n",
    "  plt.title('Confusion matrix @{:.2f}'.format(p))\n",
    "  plt.ylabel('Actual label')\n",
    "  plt.xlabel('Predicted label')\n",
    "\n",
    "  print('Non Signal Detected (True Negatives): ', cm[0][0])\n",
    "  print('Signal Incorrectly Detected (False Positives): ', cm[0][1])\n",
    "  print('Non Signal Missed (False Negatives): ', cm[1][0])\n",
    "  print('Signal Detected (True Positives): ', cm[1][1])\n",
    "  print('Total Signals: ', np.sum(cm[1]))"
   ]
  },
  {
   "cell_type": "markdown",
   "metadata": {},
   "source": [
    "Params"
   ]
  },
  {
   "cell_type": "code",
   "execution_count": 8,
   "metadata": {},
   "outputs": [],
   "source": [
    "rnd_state = 123456\n",
    "history = 24\n",
    "total_sample = 0\n",
    "\n",
    "tf.random.set_seed(rnd_state)"
   ]
  },
  {
   "cell_type": "code",
   "execution_count": 9,
   "metadata": {},
   "outputs": [],
   "source": [
    "METRICS = [\n",
    "    keras.metrics.TruePositives(name='tp'),\n",
    "    keras.metrics.FalsePositives(name='fp'),\n",
    "    keras.metrics.TrueNegatives(name='tn'),\n",
    "    keras.metrics.FalseNegatives(name='fn'), \n",
    "    keras.metrics.BinaryAccuracy(name='accuracy'),\n",
    "    keras.metrics.Precision(name='precision'),\n",
    "    keras.metrics.Recall(name='recall'),\n",
    "    keras.metrics.AUC(name='auc'),\n",
    "    f1_score\n",
    "]\n",
    "\n",
    "EPOCHS = 100\n",
    "BATCH_SIZE = 256\n",
    "\n",
    "early_stopping = tf.keras.callbacks.EarlyStopping(\n",
    "    monitor='val_auc', \n",
    "    verbose=1,\n",
    "    patience=10,\n",
    "    mode='max',\n",
    "    restore_best_weights=True)"
   ]
  },
  {
   "cell_type": "markdown",
   "metadata": {},
   "source": [
    "Reading and transforming data"
   ]
  },
  {
   "cell_type": "code",
   "execution_count": 10,
   "metadata": {},
   "outputs": [
    {
     "name": "stdout",
     "output_type": "stream",
     "text": [
      "data/pairs/EURUSD H1.csv\n",
      "EURUSD:\n",
      "Total: 8088\n",
      "Positive: 57 (0.70% of total)\n",
      "\n",
      "After resampling:\n",
      "Total: 16014\n",
      "Positive: 8007 (50.00% of total)\n",
      "\n"
     ]
    }
   ],
   "source": [
    "X_train = X_test = y_train = y_test = np.array([])\n",
    "\n",
    "for root, subdirs, files in os.walk(\"data/pairs/EURUSD\"):\n",
    "    for f in files:\n",
    "        pair = root[-6:]\n",
    "        print(root, f)\n",
    "        raw_df = pd.read_csv(root + \"/\" + f, index_col=\"date\")\n",
    "        \n",
    "        neg, pos = np.bincount(raw_df[\"signal\"])\n",
    "        total = neg + pos\n",
    "        print(\"{}:\\nTotal: {}\\nPositive: {} ({:.2f}% of total)\\n\".format(pair, total, pos, 100 * pos / total))\n",
    "        \n",
    "        #split for RNN\n",
    "        cols = raw_df[raw_df.columns[:-1]].to_numpy()\n",
    "        label = raw_df[raw_df.columns[-1]].to_numpy()\n",
    "        X, y = multivariate_data(cols, label, 0, len(raw_df), history)\n",
    "        \n",
    "        #Balancing\n",
    "        pos_features = X[np.where(y == True)[0]]\n",
    "        neg_features = X[np.where(y == False)[0]]\n",
    "\n",
    "        pos_labels = y[np.where(y == True)[0]]\n",
    "        neg_labels = y[np.where(y == False)[0]]\n",
    "        \n",
    "        ids = np.arange(len(pos_features))\n",
    "        choices = np.random.choice(ids, len(neg_features)) # Generates a random sample from a given array\n",
    "        resampled_pos_features = pos_features[choices]\n",
    "        resampled_pos_labels = pos_labels[choices]\n",
    "        \n",
    "        resampled_features = np.concatenate([resampled_pos_features, neg_features], axis=0)\n",
    "        resampled_labels = np.concatenate([resampled_pos_labels, neg_labels], axis=0)\n",
    "        \n",
    "        order = np.arange(len(resampled_labels))\n",
    "        np.random.shuffle(order)\n",
    "        resampled_features = resampled_features[order]\n",
    "        resampled_labels = resampled_labels[order]\n",
    "        \n",
    "        neg, pos = np.bincount(resampled_labels)\n",
    "        total = neg + pos\n",
    "        print(\"After resampling:\\nTotal: {}\\nPositive: {} ({:.2f}% of total)\\n\".format(total, pos, 100 * pos / total))\n",
    "        total_sample += total\n",
    "\n",
    "        #Spliting\n",
    "        p_X_train, p_X_test, p_y_train, p_y_test = train_test_split(resampled_features, resampled_labels, test_size=0.30, random_state=rnd_state)\n",
    "        \n",
    "        #Scaling\n",
    "        shape_train = p_X_train.shape\n",
    "        shape_test = p_X_test.shape\n",
    "        scaler = StandardScaler()\n",
    "        \n",
    "        scaled_X_train = scaler.fit_transform(p_X_train.reshape(shape_train[0]*shape_train[1], shape_train[2])).reshape(shape_train)\n",
    "        p_X_test = scaler.transform(p_X_test.reshape(shape_test[0]*shape_test[1], shape_test[2])).reshape(shape_test)\n",
    "        \n",
    "        #Noising\n",
    "        \n",
    "        if len(X_train):\n",
    "            X_train = np.concatenate([X_train, p_X_train], axis=0)\n",
    "            X_test = np.concatenate([X_test, p_X_test], axis=0)\n",
    "            y_train = np.concatenate([y_train, p_y_train], axis=0)\n",
    "            y_test = np.concatenate([y_test, p_y_test], axis=0)\n",
    "        else:\n",
    "            X_train, X_test, y_train, y_test = p_X_train, p_X_test, p_y_train, p_y_test"
   ]
  },
  {
   "cell_type": "markdown",
   "metadata": {},
   "source": [
    "Setting input shape"
   ]
  },
  {
   "cell_type": "code",
   "execution_count": 11,
   "metadata": {},
   "outputs": [],
   "source": [
    "input_shape = (X_train.shape[1], X_train.shape[2])"
   ]
  },
  {
   "cell_type": "code",
   "execution_count": 12,
   "metadata": {},
   "outputs": [
    {
     "data": {
      "text/plain": [
       "16014"
      ]
     },
     "execution_count": 12,
     "metadata": {},
     "output_type": "execute_result"
    }
   ],
   "source": [
    "total_sample"
   ]
  },
  {
   "cell_type": "code",
   "execution_count": 13,
   "metadata": {},
   "outputs": [
    {
     "data": {
      "text/plain": [
       "(11209, 24, 11)"
      ]
     },
     "execution_count": 13,
     "metadata": {},
     "output_type": "execute_result"
    }
   ],
   "source": [
    "X_train.shape"
   ]
  },
  {
   "cell_type": "code",
   "execution_count": 14,
   "metadata": {},
   "outputs": [
    {
     "data": {
      "text/html": [
       "<div>\n",
       "<style scoped>\n",
       "    .dataframe tbody tr th:only-of-type {\n",
       "        vertical-align: middle;\n",
       "    }\n",
       "\n",
       "    .dataframe tbody tr th {\n",
       "        vertical-align: top;\n",
       "    }\n",
       "\n",
       "    .dataframe thead th {\n",
       "        text-align: right;\n",
       "    }\n",
       "</style>\n",
       "<table border=\"1\" class=\"dataframe\">\n",
       "  <thead>\n",
       "    <tr style=\"text-align: right;\">\n",
       "      <th></th>\n",
       "      <th>Open</th>\n",
       "      <th>High</th>\n",
       "      <th>Low</th>\n",
       "      <th>Close</th>\n",
       "      <th>ema_8</th>\n",
       "      <th>ema_21</th>\n",
       "      <th>ema_50</th>\n",
       "      <th>ema_200</th>\n",
       "      <th>macd</th>\n",
       "      <th>macd_signal</th>\n",
       "      <th>macd_hist</th>\n",
       "      <th>signal</th>\n",
       "    </tr>\n",
       "    <tr>\n",
       "      <th>date</th>\n",
       "      <th></th>\n",
       "      <th></th>\n",
       "      <th></th>\n",
       "      <th></th>\n",
       "      <th></th>\n",
       "      <th></th>\n",
       "      <th></th>\n",
       "      <th></th>\n",
       "      <th></th>\n",
       "      <th></th>\n",
       "      <th></th>\n",
       "      <th></th>\n",
       "    </tr>\n",
       "  </thead>\n",
       "  <tbody>\n",
       "    <tr>\n",
       "      <th>2019-01-02 05:00:00</th>\n",
       "      <td>1.144662</td>\n",
       "      <td>1.147905</td>\n",
       "      <td>1.144662</td>\n",
       "      <td>1.146470</td>\n",
       "      <td>1.144976</td>\n",
       "      <td>1.144510</td>\n",
       "      <td>1.143844</td>\n",
       "      <td>1.141083</td>\n",
       "      <td>0.000347</td>\n",
       "      <td>0.000176</td>\n",
       "      <td>0.000171</td>\n",
       "      <td>False</td>\n",
       "    </tr>\n",
       "    <tr>\n",
       "      <th>2019-01-02 06:00:00</th>\n",
       "      <td>1.145566</td>\n",
       "      <td>1.149690</td>\n",
       "      <td>1.145566</td>\n",
       "      <td>1.148444</td>\n",
       "      <td>1.145747</td>\n",
       "      <td>1.144867</td>\n",
       "      <td>1.144025</td>\n",
       "      <td>1.141156</td>\n",
       "      <td>0.000615</td>\n",
       "      <td>0.000263</td>\n",
       "      <td>0.000352</td>\n",
       "      <td>False</td>\n",
       "    </tr>\n",
       "    <tr>\n",
       "      <th>2019-01-02 07:00:00</th>\n",
       "      <td>1.147005</td>\n",
       "      <td>1.149330</td>\n",
       "      <td>1.147005</td>\n",
       "      <td>1.148236</td>\n",
       "      <td>1.146300</td>\n",
       "      <td>1.145174</td>\n",
       "      <td>1.144190</td>\n",
       "      <td>1.141227</td>\n",
       "      <td>0.000802</td>\n",
       "      <td>0.000371</td>\n",
       "      <td>0.000431</td>\n",
       "      <td>False</td>\n",
       "    </tr>\n",
       "    <tr>\n",
       "      <th>2019-01-02 08:00:00</th>\n",
       "      <td>1.147621</td>\n",
       "      <td>1.147820</td>\n",
       "      <td>1.142885</td>\n",
       "      <td>1.145801</td>\n",
       "      <td>1.146189</td>\n",
       "      <td>1.145231</td>\n",
       "      <td>1.144253</td>\n",
       "      <td>1.141272</td>\n",
       "      <td>0.000745</td>\n",
       "      <td>0.000446</td>\n",
       "      <td>0.000299</td>\n",
       "      <td>False</td>\n",
       "    </tr>\n",
       "    <tr>\n",
       "      <th>2019-01-02 09:00:00</th>\n",
       "      <td>1.146711</td>\n",
       "      <td>1.146711</td>\n",
       "      <td>1.142220</td>\n",
       "      <td>1.143863</td>\n",
       "      <td>1.145672</td>\n",
       "      <td>1.145106</td>\n",
       "      <td>1.144238</td>\n",
       "      <td>1.141298</td>\n",
       "      <td>0.000537</td>\n",
       "      <td>0.000464</td>\n",
       "      <td>0.000073</td>\n",
       "      <td>False</td>\n",
       "    </tr>\n",
       "    <tr>\n",
       "      <th>...</th>\n",
       "      <td>...</td>\n",
       "      <td>...</td>\n",
       "      <td>...</td>\n",
       "      <td>...</td>\n",
       "      <td>...</td>\n",
       "      <td>...</td>\n",
       "      <td>...</td>\n",
       "      <td>...</td>\n",
       "      <td>...</td>\n",
       "      <td>...</td>\n",
       "      <td>...</td>\n",
       "      <td>...</td>\n",
       "    </tr>\n",
       "    <tr>\n",
       "      <th>2020-04-12 22:00:00</th>\n",
       "      <td>1.094454</td>\n",
       "      <td>1.094454</td>\n",
       "      <td>1.093280</td>\n",
       "      <td>1.093885</td>\n",
       "      <td>1.094200</td>\n",
       "      <td>1.093865</td>\n",
       "      <td>1.092137</td>\n",
       "      <td>1.089979</td>\n",
       "      <td>0.000570</td>\n",
       "      <td>0.000772</td>\n",
       "      <td>-0.000202</td>\n",
       "      <td>False</td>\n",
       "    </tr>\n",
       "    <tr>\n",
       "      <th>2020-04-12 23:00:00</th>\n",
       "      <td>1.094169</td>\n",
       "      <td>1.094169</td>\n",
       "      <td>1.093060</td>\n",
       "      <td>1.093408</td>\n",
       "      <td>1.094024</td>\n",
       "      <td>1.093823</td>\n",
       "      <td>1.092187</td>\n",
       "      <td>1.090013</td>\n",
       "      <td>0.000467</td>\n",
       "      <td>0.000711</td>\n",
       "      <td>-0.000244</td>\n",
       "      <td>False</td>\n",
       "    </tr>\n",
       "    <tr>\n",
       "      <th>2020-04-13 00:00:00</th>\n",
       "      <td>1.093788</td>\n",
       "      <td>1.093830</td>\n",
       "      <td>1.092855</td>\n",
       "      <td>1.093217</td>\n",
       "      <td>1.093845</td>\n",
       "      <td>1.093768</td>\n",
       "      <td>1.092227</td>\n",
       "      <td>1.090045</td>\n",
       "      <td>0.000366</td>\n",
       "      <td>0.000642</td>\n",
       "      <td>-0.000276</td>\n",
       "      <td>False</td>\n",
       "    </tr>\n",
       "    <tr>\n",
       "      <th>2020-04-13 01:00:00</th>\n",
       "      <td>1.093503</td>\n",
       "      <td>1.094235</td>\n",
       "      <td>1.092745</td>\n",
       "      <td>1.093266</td>\n",
       "      <td>1.093716</td>\n",
       "      <td>1.093722</td>\n",
       "      <td>1.092268</td>\n",
       "      <td>1.090077</td>\n",
       "      <td>0.000287</td>\n",
       "      <td>0.000571</td>\n",
       "      <td>-0.000284</td>\n",
       "      <td>False</td>\n",
       "    </tr>\n",
       "    <tr>\n",
       "      <th>2020-04-13 02:00:00</th>\n",
       "      <td>1.093385</td>\n",
       "      <td>1.093385</td>\n",
       "      <td>1.092505</td>\n",
       "      <td>1.092894</td>\n",
       "      <td>1.093534</td>\n",
       "      <td>1.093647</td>\n",
       "      <td>1.092292</td>\n",
       "      <td>1.090105</td>\n",
       "      <td>0.000191</td>\n",
       "      <td>0.000495</td>\n",
       "      <td>-0.000304</td>\n",
       "      <td>False</td>\n",
       "    </tr>\n",
       "  </tbody>\n",
       "</table>\n",
       "<p>8088 rows × 12 columns</p>\n",
       "</div>"
      ],
      "text/plain": [
       "                         Open      High       Low     Close     ema_8  \\\n",
       "date                                                                    \n",
       "2019-01-02 05:00:00  1.144662  1.147905  1.144662  1.146470  1.144976   \n",
       "2019-01-02 06:00:00  1.145566  1.149690  1.145566  1.148444  1.145747   \n",
       "2019-01-02 07:00:00  1.147005  1.149330  1.147005  1.148236  1.146300   \n",
       "2019-01-02 08:00:00  1.147621  1.147820  1.142885  1.145801  1.146189   \n",
       "2019-01-02 09:00:00  1.146711  1.146711  1.142220  1.143863  1.145672   \n",
       "...                       ...       ...       ...       ...       ...   \n",
       "2020-04-12 22:00:00  1.094454  1.094454  1.093280  1.093885  1.094200   \n",
       "2020-04-12 23:00:00  1.094169  1.094169  1.093060  1.093408  1.094024   \n",
       "2020-04-13 00:00:00  1.093788  1.093830  1.092855  1.093217  1.093845   \n",
       "2020-04-13 01:00:00  1.093503  1.094235  1.092745  1.093266  1.093716   \n",
       "2020-04-13 02:00:00  1.093385  1.093385  1.092505  1.092894  1.093534   \n",
       "\n",
       "                       ema_21    ema_50   ema_200      macd  macd_signal  \\\n",
       "date                                                                       \n",
       "2019-01-02 05:00:00  1.144510  1.143844  1.141083  0.000347     0.000176   \n",
       "2019-01-02 06:00:00  1.144867  1.144025  1.141156  0.000615     0.000263   \n",
       "2019-01-02 07:00:00  1.145174  1.144190  1.141227  0.000802     0.000371   \n",
       "2019-01-02 08:00:00  1.145231  1.144253  1.141272  0.000745     0.000446   \n",
       "2019-01-02 09:00:00  1.145106  1.144238  1.141298  0.000537     0.000464   \n",
       "...                       ...       ...       ...       ...          ...   \n",
       "2020-04-12 22:00:00  1.093865  1.092137  1.089979  0.000570     0.000772   \n",
       "2020-04-12 23:00:00  1.093823  1.092187  1.090013  0.000467     0.000711   \n",
       "2020-04-13 00:00:00  1.093768  1.092227  1.090045  0.000366     0.000642   \n",
       "2020-04-13 01:00:00  1.093722  1.092268  1.090077  0.000287     0.000571   \n",
       "2020-04-13 02:00:00  1.093647  1.092292  1.090105  0.000191     0.000495   \n",
       "\n",
       "                     macd_hist  signal  \n",
       "date                                    \n",
       "2019-01-02 05:00:00   0.000171   False  \n",
       "2019-01-02 06:00:00   0.000352   False  \n",
       "2019-01-02 07:00:00   0.000431   False  \n",
       "2019-01-02 08:00:00   0.000299   False  \n",
       "2019-01-02 09:00:00   0.000073   False  \n",
       "...                        ...     ...  \n",
       "2020-04-12 22:00:00  -0.000202   False  \n",
       "2020-04-12 23:00:00  -0.000244   False  \n",
       "2020-04-13 00:00:00  -0.000276   False  \n",
       "2020-04-13 01:00:00  -0.000284   False  \n",
       "2020-04-13 02:00:00  -0.000304   False  \n",
       "\n",
       "[8088 rows x 12 columns]"
      ]
     },
     "execution_count": 14,
     "metadata": {},
     "output_type": "execute_result"
    }
   ],
   "source": [
    "raw_df"
   ]
  },
  {
   "cell_type": "code",
   "execution_count": 15,
   "metadata": {},
   "outputs": [],
   "source": [
    "def model_v1(input_shape, metrics):\n",
    "\n",
    "    inputs = keras.layers.Input(shape=input_shape)\n",
    "    output_1 = keras.layers.LSTM(units=128, activation=\"relu\")(inputs)\n",
    "    output_2 = keras.layers.Dropout(0.5)(output_1)\n",
    "    prediction = keras.layers.Dense(units=1, activation=\"sigmoid\")(output_2)\n",
    "    model = keras.models.Model(inputs=inputs, outputs=prediction)\n",
    "    model.compile(\n",
    "        optimizer=keras.optimizers.RMSprop(lr=1e-3),\n",
    "        loss=keras.losses.BinaryCrossentropy(),\n",
    "        metrics=metrics\n",
    "    )\n",
    "    return model"
   ]
  },
  {
   "cell_type": "code",
   "execution_count": 16,
   "metadata": {},
   "outputs": [],
   "source": [
    "def model_v2(input_shape, metrics):\n",
    "\n",
    "    inputs = keras.layers.Input(shape=input_shape)\n",
    "    output_1 = keras.layers.Bidirectional(keras.layers.LSTM(units=128, activation=\"relu\"))(inputs)\n",
    "    output_2 = keras.layers.Dropout(0.5)(output_1)\n",
    "    prediction = keras.layers.Dense(units=1, activation=\"sigmoid\")(output_2)\n",
    "    model = keras.models.Model(inputs=inputs, outputs=prediction)\n",
    "    model.compile(\n",
    "        optimizer=keras.optimizers.RMSprop(lr=1e-5),\n",
    "        loss=keras.losses.BinaryCrossentropy(),\n",
    "        metrics=metrics\n",
    "    )\n",
    "    return model"
   ]
  },
  {
   "cell_type": "code",
   "execution_count": 17,
   "metadata": {},
   "outputs": [],
   "source": [
    "def model_v3(input_shape, metrics):\n",
    "\n",
    "    inputs = keras.layers.Input(shape=input_shape)\n",
    "    output_1 = keras.layers.LSTM(units=256, return_sequences=True, activation=\"relu\")(inputs)\n",
    "    output_2 = keras.layers.LSTM(units=128, return_sequences=True, activation=\"relu\")(output_1)\n",
    "    output_3 = keras.layers.LSTM(units=64, activation=\"relu\")(output_2)\n",
    "    output_4 = keras.layers.Dropout(0.5)(output_3)\n",
    "    prediction = keras.layers.Dense(units=1, activation=\"sigmoid\")(output_4)\n",
    "    model = keras.models.Model(inputs=inputs, outputs=prediction)\n",
    "    model.compile(\n",
    "        optimizer=keras.optimizers.RMSprop(lr=1e-3),\n",
    "        loss=keras.losses.BinaryCrossentropy(),\n",
    "        metrics=metrics\n",
    "    )\n",
    "    return model"
   ]
  },
  {
   "cell_type": "code",
   "execution_count": 18,
   "metadata": {},
   "outputs": [],
   "source": [
    "def model_v4(input_shape, metrics):\n",
    "\n",
    "    inputs = keras.layers.Input(shape=input_shape)\n",
    "    output_1 = keras.layers.Bidirectional(keras.layers.LSTM(units=256, return_sequences=True, activation=\"relu\"))(inputs)\n",
    "    output_2 = keras.layers.Bidirectional(keras.layers.LSTM(units=128, return_sequences=True, activation=\"relu\"))(output_1)\n",
    "    output_3 = keras.layers.Bidirectional(keras.layers.LSTM(units=64, activation=\"relu\"))(output_2)\n",
    "    output_4 = keras.layers.Dropout(0.5)(output_3)\n",
    "    prediction = keras.layers.Dense(units=1, activation=\"sigmoid\")(output_4)\n",
    "    model = keras.models.Model(inputs=inputs, outputs=prediction)\n",
    "    model.compile(\n",
    "        optimizer=keras.optimizers.RMSprop(lr=1e-3),\n",
    "        loss=keras.losses.BinaryCrossentropy(),\n",
    "        metrics=metrics\n",
    "    )\n",
    "    return model"
   ]
  },
  {
   "cell_type": "code",
   "execution_count": 19,
   "metadata": {},
   "outputs": [
    {
     "name": "stdout",
     "output_type": "stream",
     "text": [
      "Train on 11209 samples, validate on 4805 samples\n",
      "Epoch 1/100\n",
      "11209/11209 [==============================] - 4s 367us/sample - loss: 0.6960 - tp: 2846.0000 - fp: 2916.0000 - tn: 2685.0000 - fn: 2762.0000 - accuracy: 0.4934 - precision: 0.4939 - recall: 0.5075 - auc: 0.4960 - f1_score: 0.4754 - val_loss: 0.6942 - val_tp: 1849.0000 - val_fp: 1830.0000 - val_tn: 576.0000 - val_fn: 550.0000 - val_accuracy: 0.5047 - val_precision: 0.5026 - val_recall: 0.7707 - val_auc: 0.4932 - val_f1_score: 0.6081\n",
      "Epoch 2/100\n",
      "11209/11209 [==============================] - 2s 146us/sample - loss: 0.6942 - tp: 2659.0000 - fp: 2642.0000 - tn: 2959.0000 - fn: 2949.0000 - accuracy: 0.5012 - precision: 0.5016 - recall: 0.4741 - auc: 0.4987 - f1_score: 0.4536 - val_loss: 0.6936 - val_tp: 1879.0000 - val_fp: 1738.0000 - val_tn: 668.0000 - val_fn: 520.0000 - val_accuracy: 0.5301 - val_precision: 0.5195 - val_recall: 0.7832 - val_auc: 0.5121 - val_f1_score: 0.6244\n",
      "Epoch 3/100\n",
      "11209/11209 [==============================] - 2s 143us/sample - loss: 0.6939 - tp: 2940.0000 - fp: 2955.0000 - tn: 2646.0000 - fn: 2668.0000 - accuracy: 0.4983 - precision: 0.4987 - recall: 0.5243 - auc: 0.4958 - f1_score: 0.4800 - val_loss: 0.6926 - val_tp: 1764.0000 - val_fp: 1560.0000 - val_tn: 846.0000 - val_fn: 635.0000 - val_accuracy: 0.5432 - val_precision: 0.5307 - val_recall: 0.7353 - val_auc: 0.5140 - val_f1_score: 0.6162\n",
      "Epoch 4/100\n",
      "11209/11209 [==============================] - 2s 144us/sample - loss: 0.6934 - tp: 2681.0000 - fp: 2687.0000 - tn: 2914.0000 - fn: 2927.0000 - accuracy: 0.4992 - precision: 0.4994 - recall: 0.4781 - auc: 0.4995 - f1_score: 0.4604 - val_loss: 0.6923 - val_tp: 1725.0000 - val_fp: 1560.0000 - val_tn: 846.0000 - val_fn: 674.0000 - val_accuracy: 0.5351 - val_precision: 0.5251 - val_recall: 0.7190 - val_auc: 0.5234 - val_f1_score: 0.6066\n",
      "Epoch 5/100\n",
      "11209/11209 [==============================] - 2s 147us/sample - loss: 0.6936 - tp: 2873.0000 - fp: 2958.0000 - tn: 2643.0000 - fn: 2735.0000 - accuracy: 0.4921 - precision: 0.4927 - recall: 0.5123 - auc: 0.4964 - f1_score: 0.4710 - val_loss: 0.6916 - val_tp: 1560.0000 - val_fp: 1408.0000 - val_tn: 998.0000 - val_fn: 839.0000 - val_accuracy: 0.5324 - val_precision: 0.5256 - val_recall: 0.6503 - val_auc: 0.5303 - val_f1_score: 0.5807\n",
      "Epoch 6/100\n",
      "11209/11209 [==============================] - 2s 146us/sample - loss: 0.6934 - tp: 2452.0000 - fp: 2444.0000 - tn: 3157.0000 - fn: 3156.0000 - accuracy: 0.5004 - precision: 0.5008 - recall: 0.4372 - auc: 0.5030 - f1_score: 0.4304 - val_loss: 0.6928 - val_tp: 1793.0000 - val_fp: 1601.0000 - val_tn: 805.0000 - val_fn: 606.0000 - val_accuracy: 0.5407 - val_precision: 0.5283 - val_recall: 0.7474 - val_auc: 0.5242 - val_f1_score: 0.6189\n",
      "Epoch 7/100\n",
      "11209/11209 [==============================] - 2s 146us/sample - loss: 0.6934 - tp: 2813.0000 - fp: 2819.0000 - tn: 2782.0000 - fn: 2795.0000 - accuracy: 0.4992 - precision: 0.4995 - recall: 0.5016 - auc: 0.4987 - f1_score: 0.4896 - val_loss: 0.6924 - val_tp: 1759.0000 - val_fp: 1527.0000 - val_tn: 879.0000 - val_fn: 640.0000 - val_accuracy: 0.5490 - val_precision: 0.5353 - val_recall: 0.7332 - val_auc: 0.5283 - val_f1_score: 0.6187\n",
      "Epoch 8/100\n",
      "11209/11209 [==============================] - 2s 149us/sample - loss: 0.6937 - tp: 3422.0000 - fp: 3509.0000 - tn: 2092.0000 - fn: 2186.0000 - accuracy: 0.4919 - precision: 0.4937 - recall: 0.6102 - auc: 0.4884 - f1_score: 0.5357 - val_loss: 0.6929 - val_tp: 1755.0000 - val_fp: 1537.0000 - val_tn: 869.0000 - val_fn: 644.0000 - val_accuracy: 0.5461 - val_precision: 0.5331 - val_recall: 0.7316 - val_auc: 0.5287 - val_f1_score: 0.6168\n",
      "Epoch 9/100\n",
      "11209/11209 [==============================] - 2s 150us/sample - loss: 0.6931 - tp: 2910.0000 - fp: 2863.0000 - tn: 2738.0000 - fn: 2698.0000 - accuracy: 0.5039 - precision: 0.5041 - recall: 0.5189 - auc: 0.5067 - f1_score: 0.4956 - val_loss: 0.6931 - val_tp: 1721.0000 - val_fp: 1479.0000 - val_tn: 927.0000 - val_fn: 678.0000 - val_accuracy: 0.5511 - val_precision: 0.5378 - val_recall: 0.7174 - val_auc: 0.5274 - val_f1_score: 0.6146\n",
      "Epoch 10/100\n",
      "11209/11209 [==============================] - 2s 162us/sample - loss: 0.6934 - tp: 2693.0000 - fp: 2713.0000 - tn: 2888.0000 - fn: 2915.0000 - accuracy: 0.4979 - precision: 0.4982 - recall: 0.4802 - auc: 0.5002 - f1_score: 0.4610 - val_loss: 0.6945 - val_tp: 1755.0000 - val_fp: 1494.0000 - val_tn: 912.0000 - val_fn: 644.0000 - val_accuracy: 0.5550 - val_precision: 0.5402 - val_recall: 0.7316 - val_auc: 0.5264 - val_f1_score: 0.6214\n",
      "Epoch 11/100\n",
      "11209/11209 [==============================] - 2s 173us/sample - loss: 0.6932 - tp: 2662.0000 - fp: 2605.0000 - tn: 2996.0000 - fn: 2946.0000 - accuracy: 0.5048 - precision: 0.5054 - recall: 0.4747 - auc: 0.5024 - f1_score: 0.4749 - val_loss: 0.6963 - val_tp: 1755.0000 - val_fp: 1495.0000 - val_tn: 911.0000 - val_fn: 644.0000 - val_accuracy: 0.5548 - val_precision: 0.5400 - val_recall: 0.7316 - val_auc: 0.5273 - val_f1_score: 0.6213\n",
      "Epoch 12/100\n",
      "11209/11209 [==============================] - 2s 156us/sample - loss: 0.6934 - tp: 3697.0000 - fp: 3687.0000 - tn: 1914.0000 - fn: 1911.0000 - accuracy: 0.5006 - precision: 0.5007 - recall: 0.6592 - auc: 0.5000 - f1_score: 0.5619 - val_loss: 0.6976 - val_tp: 1600.0000 - val_fp: 1405.0000 - val_tn: 1001.0000 - val_fn: 799.0000 - val_accuracy: 0.5413 - val_precision: 0.5324 - val_recall: 0.6669 - val_auc: 0.5305 - val_f1_score: 0.5917\n",
      "Epoch 13/100\n",
      "11209/11209 [==============================] - 2s 163us/sample - loss: 0.6933 - tp: 2034.0000 - fp: 1994.0000 - tn: 3607.0000 - fn: 3574.0000 - accuracy: 0.5033 - precision: 0.5050 - recall: 0.3627 - auc: 0.5004 - f1_score: 0.4118 - val_loss: 0.6994 - val_tp: 1681.0000 - val_fp: 1447.0000 - val_tn: 959.0000 - val_fn: 718.0000 - val_accuracy: 0.5494 - val_precision: 0.5374 - val_recall: 0.7007 - val_auc: 0.5276 - val_f1_score: 0.6081\n",
      "Epoch 14/100\n",
      "11209/11209 [==============================] - 2s 169us/sample - loss: 0.6933 - tp: 2918.0000 - fp: 2961.0000 - tn: 2640.0000 - fn: 2690.0000 - accuracy: 0.4959 - precision: 0.4963 - recall: 0.5203 - auc: 0.4942 - f1_score: 0.4818 - val_loss: 0.7013 - val_tp: 1681.0000 - val_fp: 1463.0000 - val_tn: 943.0000 - val_fn: 718.0000 - val_accuracy: 0.5461 - val_precision: 0.5347 - val_recall: 0.7007 - val_auc: 0.5276 - val_f1_score: 0.6063\n",
      "Epoch 15/100\n",
      "11209/11209 [==============================] - 2s 157us/sample - loss: 0.6932 - tp: 2141.0000 - fp: 2113.0000 - tn: 3488.0000 - fn: 3467.0000 - accuracy: 0.5022 - precision: 0.5033 - recall: 0.3818 - auc: 0.5027 - f1_score: 0.3822 - val_loss: 0.7027 - val_tp: 1715.0000 - val_fp: 1514.0000 - val_tn: 892.0000 - val_fn: 684.0000 - val_accuracy: 0.5426 - val_precision: 0.5311 - val_recall: 0.7149 - val_auc: 0.5247 - val_f1_score: 0.6093\n",
      "Epoch 16/100\n",
      "11209/11209 [==============================] - 2s 164us/sample - loss: 0.6933 - tp: 4107.0000 - fp: 4083.0000 - tn: 1518.0000 - fn: 1501.0000 - accuracy: 0.5018 - precision: 0.5015 - recall: 0.7323 - auc: 0.4956 - f1_score: 0.5845 - val_loss: 0.7007 - val_tp: 1681.0000 - val_fp: 1452.0000 - val_tn: 954.0000 - val_fn: 718.0000 - val_accuracy: 0.5484 - val_precision: 0.5365 - val_recall: 0.7007 - val_auc: 0.5289 - val_f1_score: 0.6075\n",
      "Epoch 17/100\n",
      "11209/11209 [==============================] - 2s 155us/sample - loss: 0.6932 - tp: 3236.0000 - fp: 3183.0000 - tn: 2418.0000 - fn: 2372.0000 - accuracy: 0.5044 - precision: 0.5041 - recall: 0.5770 - auc: 0.5039 - f1_score: 0.5004 - val_loss: 0.7011 - val_tp: 1681.0000 - val_fp: 1426.0000 - val_tn: 980.0000 - val_fn: 718.0000 - val_accuracy: 0.5538 - val_precision: 0.5410 - val_recall: 0.7007 - val_auc: 0.5284 - val_f1_score: 0.6104\n",
      "Epoch 18/100\n",
      "11209/11209 [==============================] - 2s 155us/sample - loss: 0.6932 - tp: 2832.0000 - fp: 2875.0000 - tn: 2726.0000 - fn: 2776.0000 - accuracy: 0.4959 - precision: 0.4962 - recall: 0.5050 - auc: 0.5014 - f1_score: 0.4692 - val_loss: 0.6998 - val_tp: 1681.0000 - val_fp: 1421.0000 - val_tn: 985.0000 - val_fn: 718.0000 - val_accuracy: 0.5548 - val_precision: 0.5419 - val_recall: 0.7007 - val_auc: 0.5298 - val_f1_score: 0.6109\n",
      "Epoch 19/100\n"
     ]
    },
    {
     "name": "stdout",
     "output_type": "stream",
     "text": [
      "11209/11209 [==============================] - 2s 152us/sample - loss: 0.6933 - tp: 2615.0000 - fp: 2632.0000 - tn: 2969.0000 - fn: 2993.0000 - accuracy: 0.4982 - precision: 0.4984 - recall: 0.4663 - auc: 0.4979 - f1_score: 0.4428 - val_loss: 0.6995 - val_tp: 1681.0000 - val_fp: 1433.0000 - val_tn: 973.0000 - val_fn: 718.0000 - val_accuracy: 0.5523 - val_precision: 0.5398 - val_recall: 0.7007 - val_auc: 0.5276 - val_f1_score: 0.6096\n",
      "Epoch 20/100\n",
      "11209/11209 [==============================] - 2s 156us/sample - loss: 0.6933 - tp: 2423.0000 - fp: 2456.0000 - tn: 3145.0000 - fn: 3185.0000 - accuracy: 0.4967 - precision: 0.4966 - recall: 0.4321 - auc: 0.4993 - f1_score: 0.4402 - val_loss: 0.6991 - val_tp: 1681.0000 - val_fp: 1431.0000 - val_tn: 975.0000 - val_fn: 718.0000 - val_accuracy: 0.5528 - val_precision: 0.5402 - val_recall: 0.7007 - val_auc: 0.5270 - val_f1_score: 0.6098\n",
      "Epoch 21/100\n",
      "11209/11209 [==============================] - 2s 156us/sample - loss: 0.6933 - tp: 3178.0000 - fp: 3216.0000 - tn: 2385.0000 - fn: 2430.0000 - accuracy: 0.4963 - precision: 0.4970 - recall: 0.5667 - auc: 0.4951 - f1_score: 0.4920 - val_loss: 0.7006 - val_tp: 1715.0000 - val_fp: 1476.0000 - val_tn: 930.0000 - val_fn: 684.0000 - val_accuracy: 0.5505 - val_precision: 0.5374 - val_recall: 0.7149 - val_auc: 0.5236 - val_f1_score: 0.6135\n",
      "Epoch 22/100\n",
      "10752/11209 [===========================>..] - ETA: 0s - loss: 0.6933 - tp: 4351.0000 - fp: 4335.0000 - tn: 1033.0000 - fn: 1033.0000 - accuracy: 0.5007 - precision: 0.5009 - recall: 0.8081 - auc: 0.4996 - f1_score: 0.5921Restoring model weights from the end of the best epoch.\n",
      "11209/11209 [==============================] - 2s 179us/sample - loss: 0.6933 - tp: 4412.0000 - fp: 4399.0000 - tn: 1202.0000 - fn: 1196.0000 - accuracy: 0.5008 - precision: 0.5007 - recall: 0.7867 - auc: 0.4995 - f1_score: 0.5808 - val_loss: 0.6987 - val_tp: 1681.0000 - val_fp: 1414.0000 - val_tn: 992.0000 - val_fn: 718.0000 - val_accuracy: 0.5563 - val_precision: 0.5431 - val_recall: 0.7007 - val_auc: 0.5258 - val_f1_score: 0.6117\n",
      "Epoch 00022: early stopping\n"
     ]
    }
   ],
   "source": [
    "model = model_v1(input_shape, METRICS)\n",
    "model_history = model.fit(\n",
    "    X_train,\n",
    "    y_train,\n",
    "    batch_size=BATCH_SIZE,\n",
    "    epochs=EPOCHS,\n",
    "    #steps_per_epoch=resampled_steps_per_epoch,\n",
    "    callbacks = [early_stopping],\n",
    "    validation_data=(X_test, y_test),\n",
    "    verbose=1)"
   ]
  },
  {
   "cell_type": "code",
   "execution_count": 20,
   "metadata": {},
   "outputs": [
    {
     "data": {
      "image/png": "[encoded data removed]",
      "text/plain": [
       "<Figure size 864x720 with 1 Axes>"
      ]
     },
     "metadata": {
      "needs_background": "light"
     },
     "output_type": "display_data"
    }
   ],
   "source": [
    "plot_loss(model_history, \"Model\", 0)"
   ]
  },
  {
   "cell_type": "code",
   "execution_count": 23,
   "metadata": {},
   "outputs": [],
   "source": [
    "model_baseline = model.predict(X_test)"
   ]
  },
  {
   "cell_type": "code",
   "execution_count": 24,
   "metadata": {},
   "outputs": [
    {
     "name": "stdout",
     "output_type": "stream",
     "text": [
      "Non Signal Detected (True Negatives):  1001\n",
      "Signal Incorrectly Detected (False Positives):  1405\n",
      "Non Signal Missed (False Negatives):  799\n",
      "Signal Detected (True Positives):  1600\n",
      "Total Signals:  2399\n"
     ]
    },
    {
     "data": {
      "image/png": "[encoded data removed]",
      "text/plain": [
       "<Figure size 360x360 with 2 Axes>"
      ]
     },
     "metadata": {
      "needs_background": "light"
     },
     "output_type": "display_data"
    }
   ],
   "source": [
    "plot_cm(y_test, model_baseline, 0.5)"
   ]
  },
  {
   "cell_type": "code",
   "execution_count": 25,
   "metadata": {},
   "outputs": [
    {
     "data": {
      "image/png": "[encoded data removed]",
      "text/plain": [
       "<Figure size 864x720 with 4 Axes>"
      ]
     },
     "metadata": {
      "needs_background": "light"
     },
     "output_type": "display_data"
    }
   ],
   "source": [
    "plot_metrics(model_history )"
   ]
  },
  {
   "cell_type": "code",
   "execution_count": null,
   "metadata": {},
   "outputs": [],
   "source": []
  }
 ],
 "metadata": {
  "kernelspec": {
   "display_name": "Python 3",
   "language": "python",
   "name": "python3"
  },
  "language_info": {
   "codemirror_mode": {
    "name": "ipython",
    "version": 3
   },
   "file_extension": ".py",
   "mimetype": "text/x-python",
   "name": "python",
   "nbconvert_exporter": "python",
   "pygments_lexer": "ipython3",
   "version": "3.7.0"
  }
 },
 "nbformat": 4,
 "nbformat_minor": 4
}
